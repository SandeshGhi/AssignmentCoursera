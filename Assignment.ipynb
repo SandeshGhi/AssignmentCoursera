{
  "nbformat": 4,
  "nbformat_minor": 5,
  "metadata": {
    "kernelspec": {
      "display_name": "Python 3",
      "language": "python",
      "name": "python3"
    },
    "language_info": {
      "codemirror_mode": {
        "name": "ipython",
        "version": 3
      },
      "file_extension": ".py",
      "mimetype": "text/x-python",
      "name": "python",
      "nbconvert_exporter": "python",
      "pygments_lexer": "ipython3",
      "version": "3.8.8"
    },
    "colab": {
      "name": "as.ipynb",
      "provenance": [],
      "collapsed_sections": [],
      "include_colab_link": true
    },
    "accelerator": "GPU"
  },
  "cells": [
    {
      "cell_type": "markdown",
      "metadata": {
        "id": "view-in-github",
        "colab_type": "text"
      },
      "source": [
        "<a href=\"https://colab.research.google.com/github/SandeshGhi/AssignmentCoursera/blob/main/Assignment.ipynb\" target=\"_parent\"><img src=\"https://colab.research.google.com/assets/colab-badge.svg\" alt=\"Open In Colab\"/></a>"
      ]
    },
    {
      "cell_type": "code",
      "metadata": {
        "id": "3ac67731"
      },
      "source": [
        "import itertools\n",
        "import numpy as np\n",
        "import matplotlib.pyplot as plt\n",
        "from matplotlib.ticker import NullFormatter\n",
        "import pandas as pd\n",
        "import numpy as np\n",
        "import matplotlib.ticker as ticker\n",
        "from sklearn import preprocessing\n",
        "%matplotlib inline"
      ],
      "id": "3ac67731",
      "execution_count": 1,
      "outputs": []
    },
    {
      "cell_type": "code",
      "metadata": {
        "colab": {
          "base_uri": "https://localhost:8080/"
        },
        "id": "2ed0334f",
        "outputId": "59c47e47-2c1b-439d-da05-0c8bd2dc39e8"
      },
      "source": [
        "!curl -O https://s3-api.us-geo.objectstorage.softlayer.net/cf-courses-data/CognitiveClass/ML0101ENv3/labs/loan_train.csv"
      ],
      "id": "2ed0334f",
      "execution_count": 2,
      "outputs": [
        {
          "output_type": "stream",
          "name": "stdout",
          "text": [
            "  % Total    % Received % Xferd  Average Speed   Time    Time     Time  Current\n",
            "                                 Dload  Upload   Total   Spent    Left  Speed\n",
            "100 23101  100 23101    0     0  90948      0 --:--:-- --:--:-- --:--:-- 90948\n"
          ]
        }
      ]
    },
    {
      "cell_type": "code",
      "metadata": {
        "colab": {
          "base_uri": "https://localhost:8080/",
          "height": 206
        },
        "id": "71e877b8",
        "outputId": "77378e85-a46e-472f-f32b-5b9ead9c893d"
      },
      "source": [
        "df = pd.read_csv('loan_train.csv')\n",
        "df.head()"
      ],
      "id": "71e877b8",
      "execution_count": 3,
      "outputs": [
        {
          "output_type": "execute_result",
          "data": {
            "text/html": [
              "<div>\n",
              "<style scoped>\n",
              "    .dataframe tbody tr th:only-of-type {\n",
              "        vertical-align: middle;\n",
              "    }\n",
              "\n",
              "    .dataframe tbody tr th {\n",
              "        vertical-align: top;\n",
              "    }\n",
              "\n",
              "    .dataframe thead th {\n",
              "        text-align: right;\n",
              "    }\n",
              "</style>\n",
              "<table border=\"1\" class=\"dataframe\">\n",
              "  <thead>\n",
              "    <tr style=\"text-align: right;\">\n",
              "      <th></th>\n",
              "      <th>Unnamed: 0</th>\n",
              "      <th>Unnamed: 0.1</th>\n",
              "      <th>loan_status</th>\n",
              "      <th>Principal</th>\n",
              "      <th>terms</th>\n",
              "      <th>effective_date</th>\n",
              "      <th>due_date</th>\n",
              "      <th>age</th>\n",
              "      <th>education</th>\n",
              "      <th>Gender</th>\n",
              "    </tr>\n",
              "  </thead>\n",
              "  <tbody>\n",
              "    <tr>\n",
              "      <th>0</th>\n",
              "      <td>0</td>\n",
              "      <td>0</td>\n",
              "      <td>PAIDOFF</td>\n",
              "      <td>1000</td>\n",
              "      <td>30</td>\n",
              "      <td>9/8/2016</td>\n",
              "      <td>10/7/2016</td>\n",
              "      <td>45</td>\n",
              "      <td>High School or Below</td>\n",
              "      <td>male</td>\n",
              "    </tr>\n",
              "    <tr>\n",
              "      <th>1</th>\n",
              "      <td>2</td>\n",
              "      <td>2</td>\n",
              "      <td>PAIDOFF</td>\n",
              "      <td>1000</td>\n",
              "      <td>30</td>\n",
              "      <td>9/8/2016</td>\n",
              "      <td>10/7/2016</td>\n",
              "      <td>33</td>\n",
              "      <td>Bechalor</td>\n",
              "      <td>female</td>\n",
              "    </tr>\n",
              "    <tr>\n",
              "      <th>2</th>\n",
              "      <td>3</td>\n",
              "      <td>3</td>\n",
              "      <td>PAIDOFF</td>\n",
              "      <td>1000</td>\n",
              "      <td>15</td>\n",
              "      <td>9/8/2016</td>\n",
              "      <td>9/22/2016</td>\n",
              "      <td>27</td>\n",
              "      <td>college</td>\n",
              "      <td>male</td>\n",
              "    </tr>\n",
              "    <tr>\n",
              "      <th>3</th>\n",
              "      <td>4</td>\n",
              "      <td>4</td>\n",
              "      <td>PAIDOFF</td>\n",
              "      <td>1000</td>\n",
              "      <td>30</td>\n",
              "      <td>9/9/2016</td>\n",
              "      <td>10/8/2016</td>\n",
              "      <td>28</td>\n",
              "      <td>college</td>\n",
              "      <td>female</td>\n",
              "    </tr>\n",
              "    <tr>\n",
              "      <th>4</th>\n",
              "      <td>6</td>\n",
              "      <td>6</td>\n",
              "      <td>PAIDOFF</td>\n",
              "      <td>1000</td>\n",
              "      <td>30</td>\n",
              "      <td>9/9/2016</td>\n",
              "      <td>10/8/2016</td>\n",
              "      <td>29</td>\n",
              "      <td>college</td>\n",
              "      <td>male</td>\n",
              "    </tr>\n",
              "  </tbody>\n",
              "</table>\n",
              "</div>"
            ],
            "text/plain": [
              "   Unnamed: 0  Unnamed: 0.1 loan_status  ...  age             education  Gender\n",
              "0           0             0     PAIDOFF  ...   45  High School or Below    male\n",
              "1           2             2     PAIDOFF  ...   33              Bechalor  female\n",
              "2           3             3     PAIDOFF  ...   27               college    male\n",
              "3           4             4     PAIDOFF  ...   28               college  female\n",
              "4           6             6     PAIDOFF  ...   29               college    male\n",
              "\n",
              "[5 rows x 10 columns]"
            ]
          },
          "metadata": {},
          "execution_count": 3
        }
      ]
    },
    {
      "cell_type": "code",
      "metadata": {
        "colab": {
          "base_uri": "https://localhost:8080/"
        },
        "id": "1dce7f2a",
        "outputId": "ae2b0545-8a5a-4fce-a415-2bc77f74bea0"
      },
      "source": [
        "df.shape"
      ],
      "id": "1dce7f2a",
      "execution_count": 4,
      "outputs": [
        {
          "output_type": "execute_result",
          "data": {
            "text/plain": [
              "(346, 10)"
            ]
          },
          "metadata": {},
          "execution_count": 4
        }
      ]
    },
    {
      "cell_type": "code",
      "metadata": {
        "colab": {
          "base_uri": "https://localhost:8080/",
          "height": 206
        },
        "id": "eba9aaef",
        "outputId": "842afab2-59b5-4e0e-c6c3-dd8c2bb13d57"
      },
      "source": [
        "df['due_date'] = pd.to_datetime(df['due_date'])\n",
        "df['effective_date'] = pd.to_datetime(df['effective_date'])\n",
        "df.head()"
      ],
      "id": "eba9aaef",
      "execution_count": 5,
      "outputs": [
        {
          "output_type": "execute_result",
          "data": {
            "text/html": [
              "<div>\n",
              "<style scoped>\n",
              "    .dataframe tbody tr th:only-of-type {\n",
              "        vertical-align: middle;\n",
              "    }\n",
              "\n",
              "    .dataframe tbody tr th {\n",
              "        vertical-align: top;\n",
              "    }\n",
              "\n",
              "    .dataframe thead th {\n",
              "        text-align: right;\n",
              "    }\n",
              "</style>\n",
              "<table border=\"1\" class=\"dataframe\">\n",
              "  <thead>\n",
              "    <tr style=\"text-align: right;\">\n",
              "      <th></th>\n",
              "      <th>Unnamed: 0</th>\n",
              "      <th>Unnamed: 0.1</th>\n",
              "      <th>loan_status</th>\n",
              "      <th>Principal</th>\n",
              "      <th>terms</th>\n",
              "      <th>effective_date</th>\n",
              "      <th>due_date</th>\n",
              "      <th>age</th>\n",
              "      <th>education</th>\n",
              "      <th>Gender</th>\n",
              "    </tr>\n",
              "  </thead>\n",
              "  <tbody>\n",
              "    <tr>\n",
              "      <th>0</th>\n",
              "      <td>0</td>\n",
              "      <td>0</td>\n",
              "      <td>PAIDOFF</td>\n",
              "      <td>1000</td>\n",
              "      <td>30</td>\n",
              "      <td>2016-09-08</td>\n",
              "      <td>2016-10-07</td>\n",
              "      <td>45</td>\n",
              "      <td>High School or Below</td>\n",
              "      <td>male</td>\n",
              "    </tr>\n",
              "    <tr>\n",
              "      <th>1</th>\n",
              "      <td>2</td>\n",
              "      <td>2</td>\n",
              "      <td>PAIDOFF</td>\n",
              "      <td>1000</td>\n",
              "      <td>30</td>\n",
              "      <td>2016-09-08</td>\n",
              "      <td>2016-10-07</td>\n",
              "      <td>33</td>\n",
              "      <td>Bechalor</td>\n",
              "      <td>female</td>\n",
              "    </tr>\n",
              "    <tr>\n",
              "      <th>2</th>\n",
              "      <td>3</td>\n",
              "      <td>3</td>\n",
              "      <td>PAIDOFF</td>\n",
              "      <td>1000</td>\n",
              "      <td>15</td>\n",
              "      <td>2016-09-08</td>\n",
              "      <td>2016-09-22</td>\n",
              "      <td>27</td>\n",
              "      <td>college</td>\n",
              "      <td>male</td>\n",
              "    </tr>\n",
              "    <tr>\n",
              "      <th>3</th>\n",
              "      <td>4</td>\n",
              "      <td>4</td>\n",
              "      <td>PAIDOFF</td>\n",
              "      <td>1000</td>\n",
              "      <td>30</td>\n",
              "      <td>2016-09-09</td>\n",
              "      <td>2016-10-08</td>\n",
              "      <td>28</td>\n",
              "      <td>college</td>\n",
              "      <td>female</td>\n",
              "    </tr>\n",
              "    <tr>\n",
              "      <th>4</th>\n",
              "      <td>6</td>\n",
              "      <td>6</td>\n",
              "      <td>PAIDOFF</td>\n",
              "      <td>1000</td>\n",
              "      <td>30</td>\n",
              "      <td>2016-09-09</td>\n",
              "      <td>2016-10-08</td>\n",
              "      <td>29</td>\n",
              "      <td>college</td>\n",
              "      <td>male</td>\n",
              "    </tr>\n",
              "  </tbody>\n",
              "</table>\n",
              "</div>"
            ],
            "text/plain": [
              "   Unnamed: 0  Unnamed: 0.1 loan_status  ...  age             education  Gender\n",
              "0           0             0     PAIDOFF  ...   45  High School or Below    male\n",
              "1           2             2     PAIDOFF  ...   33              Bechalor  female\n",
              "2           3             3     PAIDOFF  ...   27               college    male\n",
              "3           4             4     PAIDOFF  ...   28               college  female\n",
              "4           6             6     PAIDOFF  ...   29               college    male\n",
              "\n",
              "[5 rows x 10 columns]"
            ]
          },
          "metadata": {},
          "execution_count": 5
        }
      ]
    },
    {
      "cell_type": "code",
      "metadata": {
        "colab": {
          "base_uri": "https://localhost:8080/"
        },
        "id": "2abc89c2",
        "outputId": "dcbdfaf2-0b62-499d-8a46-54028ea9e4f4"
      },
      "source": [
        "df['loan_status'].value_counts()"
      ],
      "id": "2abc89c2",
      "execution_count": 6,
      "outputs": [
        {
          "output_type": "execute_result",
          "data": {
            "text/plain": [
              "PAIDOFF       260\n",
              "COLLECTION     86\n",
              "Name: loan_status, dtype: int64"
            ]
          },
          "metadata": {},
          "execution_count": 6
        }
      ]
    },
    {
      "cell_type": "code",
      "metadata": {
        "colab": {
          "base_uri": "https://localhost:8080/",
          "height": 225
        },
        "id": "57327d95",
        "outputId": "9d5e40cf-771f-49ad-9688-5ddc49b32516"
      },
      "source": [
        "\n",
        "import seaborn as sns\n",
        "\n",
        "bins = np.linspace(df.Principal.min(), df.Principal.max(), 10)\n",
        "g = sns.FacetGrid(df, col=\"Gender\", hue=\"loan_status\", palette=\"Set1\", col_wrap=2)\n",
        "g.map(plt.hist, 'Principal', bins=bins, ec=\"k\")\n",
        "\n",
        "g.axes[-1].legend()\n",
        "plt.show()"
      ],
      "id": "57327d95",
      "execution_count": 7,
      "outputs": [
        {
          "output_type": "display_data",
          "data": {
            "image/png": "[encoded data removed]",
            "text/plain": [
              "<Figure size 432x216 with 2 Axes>"
            ]
          },
          "metadata": {
            "needs_background": "light"
          }
        }
      ]
    },
    {
      "cell_type": "code",
      "metadata": {
        "colab": {
          "base_uri": "https://localhost:8080/",
          "height": 225
        },
        "id": "a31d429a",
        "outputId": "2507626c-abf7-480c-8ee2-ce92a949e7fd"
      },
      "source": [
        "bins = np.linspace(df.age.min(), df.age.max(), 10)\n",
        "g = sns.FacetGrid(df, col=\"Gender\", hue=\"loan_status\", palette=\"Set1\", col_wrap=2)\n",
        "g.map(plt.hist, 'age', bins=bins, ec=\"k\")\n",
        "\n",
        "g.axes[-1].legend()\n",
        "plt.show()"
      ],
      "id": "a31d429a",
      "execution_count": 8,
      "outputs": [
        {
          "output_type": "display_data",
          "data": {
            "image/png": "[encoded data removed]",
            "text/plain": [
              "<Figure size 432x216 with 2 Axes>"
            ]
          },
          "metadata": {
            "needs_background": "light"
          }
        }
      ]
    },
    {
      "cell_type": "markdown",
      "metadata": {
        "id": "c5b598de"
      },
      "source": [
        "PreProcessing"
      ],
      "id": "c5b598de"
    },
    {
      "cell_type": "code",
      "metadata": {
        "colab": {
          "base_uri": "https://localhost:8080/",
          "height": 225
        },
        "id": "45d0f224",
        "outputId": "0ec549f0-c8d5-4584-9fe4-a39fa9ed73f4"
      },
      "source": [
        "df['dayofweek'] = df['effective_date'].dt.dayofweek\n",
        "bins = np.linspace(df.dayofweek.min(), df.dayofweek.max(), 10)\n",
        "g = sns.FacetGrid(df, col=\"Gender\", hue=\"loan_status\", palette=\"Set1\", col_wrap=2)\n",
        "g.map(plt.hist, 'dayofweek', bins=bins, ec=\"k\")\n",
        "g.axes[-1].legend()\n",
        "plt.show()"
      ],
      "id": "45d0f224",
      "execution_count": 9,
      "outputs": [
        {
          "output_type": "display_data",
          "data": {
            "image/png": "[encoded data removed]",
            "text/plain": [
              "<Figure size 432x216 with 2 Axes>"
            ]
          },
          "metadata": {
            "needs_background": "light"
          }
        }
      ]
    },
    {
      "cell_type": "code",
      "metadata": {
        "colab": {
          "base_uri": "https://localhost:8080/",
          "height": 206
        },
        "id": "7992d217",
        "outputId": "bf3d9419-61aa-4e87-b73d-5c22dfdab80f"
      },
      "source": [
        "df['weekend'] = df['dayofweek'].apply(lambda x: 1 if (x>3)  else 0)\n",
        "df.head()"
      ],
      "id": "7992d217",
      "execution_count": 10,
      "outputs": [
        {
          "output_type": "execute_result",
          "data": {
            "text/html": [
              "<div>\n",
              "<style scoped>\n",
              "    .dataframe tbody tr th:only-of-type {\n",
              "        vertical-align: middle;\n",
              "    }\n",
              "\n",
              "    .dataframe tbody tr th {\n",
              "        vertical-align: top;\n",
              "    }\n",
              "\n",
              "    .dataframe thead th {\n",
              "        text-align: right;\n",
              "    }\n",
              "</style>\n",
              "<table border=\"1\" class=\"dataframe\">\n",
              "  <thead>\n",
              "    <tr style=\"text-align: right;\">\n",
              "      <th></th>\n",
              "      <th>Unnamed: 0</th>\n",
              "      <th>Unnamed: 0.1</th>\n",
              "      <th>loan_status</th>\n",
              "      <th>Principal</th>\n",
              "      <th>terms</th>\n",
              "      <th>effective_date</th>\n",
              "      <th>due_date</th>\n",
              "      <th>age</th>\n",
              "      <th>education</th>\n",
              "      <th>Gender</th>\n",
              "      <th>dayofweek</th>\n",
              "      <th>weekend</th>\n",
              "    </tr>\n",
              "  </thead>\n",
              "  <tbody>\n",
              "    <tr>\n",
              "      <th>0</th>\n",
              "      <td>0</td>\n",
              "      <td>0</td>\n",
              "      <td>PAIDOFF</td>\n",
              "      <td>1000</td>\n",
              "      <td>30</td>\n",
              "      <td>2016-09-08</td>\n",
              "      <td>2016-10-07</td>\n",
              "      <td>45</td>\n",
              "      <td>High School or Below</td>\n",
              "      <td>male</td>\n",
              "      <td>3</td>\n",
              "      <td>0</td>\n",
              "    </tr>\n",
              "    <tr>\n",
              "      <th>1</th>\n",
              "      <td>2</td>\n",
              "      <td>2</td>\n",
              "      <td>PAIDOFF</td>\n",
              "      <td>1000</td>\n",
              "      <td>30</td>\n",
              "      <td>2016-09-08</td>\n",
              "      <td>2016-10-07</td>\n",
              "      <td>33</td>\n",
              "      <td>Bechalor</td>\n",
              "      <td>female</td>\n",
              "      <td>3</td>\n",
              "      <td>0</td>\n",
              "    </tr>\n",
              "    <tr>\n",
              "      <th>2</th>\n",
              "      <td>3</td>\n",
              "      <td>3</td>\n",
              "      <td>PAIDOFF</td>\n",
              "      <td>1000</td>\n",
              "      <td>15</td>\n",
              "      <td>2016-09-08</td>\n",
              "      <td>2016-09-22</td>\n",
              "      <td>27</td>\n",
              "      <td>college</td>\n",
              "      <td>male</td>\n",
              "      <td>3</td>\n",
              "      <td>0</td>\n",
              "    </tr>\n",
              "    <tr>\n",
              "      <th>3</th>\n",
              "      <td>4</td>\n",
              "      <td>4</td>\n",
              "      <td>PAIDOFF</td>\n",
              "      <td>1000</td>\n",
              "      <td>30</td>\n",
              "      <td>2016-09-09</td>\n",
              "      <td>2016-10-08</td>\n",
              "      <td>28</td>\n",
              "      <td>college</td>\n",
              "      <td>female</td>\n",
              "      <td>4</td>\n",
              "      <td>1</td>\n",
              "    </tr>\n",
              "    <tr>\n",
              "      <th>4</th>\n",
              "      <td>6</td>\n",
              "      <td>6</td>\n",
              "      <td>PAIDOFF</td>\n",
              "      <td>1000</td>\n",
              "      <td>30</td>\n",
              "      <td>2016-09-09</td>\n",
              "      <td>2016-10-08</td>\n",
              "      <td>29</td>\n",
              "      <td>college</td>\n",
              "      <td>male</td>\n",
              "      <td>4</td>\n",
              "      <td>1</td>\n",
              "    </tr>\n",
              "  </tbody>\n",
              "</table>\n",
              "</div>"
            ],
            "text/plain": [
              "   Unnamed: 0  Unnamed: 0.1 loan_status  ...  Gender  dayofweek weekend\n",
              "0           0             0     PAIDOFF  ...    male          3       0\n",
              "1           2             2     PAIDOFF  ...  female          3       0\n",
              "2           3             3     PAIDOFF  ...    male          3       0\n",
              "3           4             4     PAIDOFF  ...  female          4       1\n",
              "4           6             6     PAIDOFF  ...    male          4       1\n",
              "\n",
              "[5 rows x 12 columns]"
            ]
          },
          "metadata": {},
          "execution_count": 10
        }
      ]
    },
    {
      "cell_type": "code",
      "metadata": {
        "colab": {
          "base_uri": "https://localhost:8080/"
        },
        "id": "e1c5de8e",
        "outputId": "1b78deb7-bef4-4cc4-ea52-da37a62f47ec"
      },
      "source": [
        "df.groupby(['Gender'])['loan_status'].value_counts(normalize=True)"
      ],
      "id": "e1c5de8e",
      "execution_count": 11,
      "outputs": [
        {
          "output_type": "execute_result",
          "data": {
            "text/plain": [
              "Gender  loan_status\n",
              "female  PAIDOFF        0.865385\n",
              "        COLLECTION     0.134615\n",
              "male    PAIDOFF        0.731293\n",
              "        COLLECTION     0.268707\n",
              "Name: loan_status, dtype: float64"
            ]
          },
          "metadata": {},
          "execution_count": 11
        }
      ]
    },
    {
      "cell_type": "code",
      "metadata": {
        "colab": {
          "base_uri": "https://localhost:8080/",
          "height": 206
        },
        "id": "58ecd891",
        "outputId": "03e187fc-cddf-4205-9d6b-1c4ffd9f263d"
      },
      "source": [
        "\n",
        "df['Gender'].replace(to_replace=['male','female'], value=[0,1],inplace=True)\n",
        "df.head()"
      ],
      "id": "58ecd891",
      "execution_count": 12,
      "outputs": [
        {
          "output_type": "execute_result",
          "data": {
            "text/html": [
              "<div>\n",
              "<style scoped>\n",
              "    .dataframe tbody tr th:only-of-type {\n",
              "        vertical-align: middle;\n",
              "    }\n",
              "\n",
              "    .dataframe tbody tr th {\n",
              "        vertical-align: top;\n",
              "    }\n",
              "\n",
              "    .dataframe thead th {\n",
              "        text-align: right;\n",
              "    }\n",
              "</style>\n",
              "<table border=\"1\" class=\"dataframe\">\n",
              "  <thead>\n",
              "    <tr style=\"text-align: right;\">\n",
              "      <th></th>\n",
              "      <th>Unnamed: 0</th>\n",
              "      <th>Unnamed: 0.1</th>\n",
              "      <th>loan_status</th>\n",
              "      <th>Principal</th>\n",
              "      <th>terms</th>\n",
              "      <th>effective_date</th>\n",
              "      <th>due_date</th>\n",
              "      <th>age</th>\n",
              "      <th>education</th>\n",
              "      <th>Gender</th>\n",
              "      <th>dayofweek</th>\n",
              "      <th>weekend</th>\n",
              "    </tr>\n",
              "  </thead>\n",
              "  <tbody>\n",
              "    <tr>\n",
              "      <th>0</th>\n",
              "      <td>0</td>\n",
              "      <td>0</td>\n",
              "      <td>PAIDOFF</td>\n",
              "      <td>1000</td>\n",
              "      <td>30</td>\n",
              "      <td>2016-09-08</td>\n",
              "      <td>2016-10-07</td>\n",
              "      <td>45</td>\n",
              "      <td>High School or Below</td>\n",
              "      <td>0</td>\n",
              "      <td>3</td>\n",
              "      <td>0</td>\n",
              "    </tr>\n",
              "    <tr>\n",
              "      <th>1</th>\n",
              "      <td>2</td>\n",
              "      <td>2</td>\n",
              "      <td>PAIDOFF</td>\n",
              "      <td>1000</td>\n",
              "      <td>30</td>\n",
              "      <td>2016-09-08</td>\n",
              "      <td>2016-10-07</td>\n",
              "      <td>33</td>\n",
              "      <td>Bechalor</td>\n",
              "      <td>1</td>\n",
              "      <td>3</td>\n",
              "      <td>0</td>\n",
              "    </tr>\n",
              "    <tr>\n",
              "      <th>2</th>\n",
              "      <td>3</td>\n",
              "      <td>3</td>\n",
              "      <td>PAIDOFF</td>\n",
              "      <td>1000</td>\n",
              "      <td>15</td>\n",
              "      <td>2016-09-08</td>\n",
              "      <td>2016-09-22</td>\n",
              "      <td>27</td>\n",
              "      <td>college</td>\n",
              "      <td>0</td>\n",
              "      <td>3</td>\n",
              "      <td>0</td>\n",
              "    </tr>\n",
              "    <tr>\n",
              "      <th>3</th>\n",
              "      <td>4</td>\n",
              "      <td>4</td>\n",
              "      <td>PAIDOFF</td>\n",
              "      <td>1000</td>\n",
              "      <td>30</td>\n",
              "      <td>2016-09-09</td>\n",
              "      <td>2016-10-08</td>\n",
              "      <td>28</td>\n",
              "      <td>college</td>\n",
              "      <td>1</td>\n",
              "      <td>4</td>\n",
              "      <td>1</td>\n",
              "    </tr>\n",
              "    <tr>\n",
              "      <th>4</th>\n",
              "      <td>6</td>\n",
              "      <td>6</td>\n",
              "      <td>PAIDOFF</td>\n",
              "      <td>1000</td>\n",
              "      <td>30</td>\n",
              "      <td>2016-09-09</td>\n",
              "      <td>2016-10-08</td>\n",
              "      <td>29</td>\n",
              "      <td>college</td>\n",
              "      <td>0</td>\n",
              "      <td>4</td>\n",
              "      <td>1</td>\n",
              "    </tr>\n",
              "  </tbody>\n",
              "</table>\n",
              "</div>"
            ],
            "text/plain": [
              "   Unnamed: 0  Unnamed: 0.1 loan_status  ...  Gender  dayofweek weekend\n",
              "0           0             0     PAIDOFF  ...       0          3       0\n",
              "1           2             2     PAIDOFF  ...       1          3       0\n",
              "2           3             3     PAIDOFF  ...       0          3       0\n",
              "3           4             4     PAIDOFF  ...       1          4       1\n",
              "4           6             6     PAIDOFF  ...       0          4       1\n",
              "\n",
              "[5 rows x 12 columns]"
            ]
          },
          "metadata": {},
          "execution_count": 12
        }
      ]
    },
    {
      "cell_type": "code",
      "metadata": {
        "colab": {
          "base_uri": "https://localhost:8080/"
        },
        "id": "9b9174b1",
        "outputId": "dd8b419e-9aa8-40a6-87b8-3a50dda0fbfe"
      },
      "source": [
        "df.groupby(['education'])['loan_status'].value_counts(normalize=True)"
      ],
      "id": "9b9174b1",
      "execution_count": 13,
      "outputs": [
        {
          "output_type": "execute_result",
          "data": {
            "text/plain": [
              "education             loan_status\n",
              "Bechalor              PAIDOFF        0.750000\n",
              "                      COLLECTION     0.250000\n",
              "High School or Below  PAIDOFF        0.741722\n",
              "                      COLLECTION     0.258278\n",
              "Master or Above       COLLECTION     0.500000\n",
              "                      PAIDOFF        0.500000\n",
              "college               PAIDOFF        0.765101\n",
              "                      COLLECTION     0.234899\n",
              "Name: loan_status, dtype: float64"
            ]
          },
          "metadata": {},
          "execution_count": 13
        }
      ]
    },
    {
      "cell_type": "code",
      "metadata": {
        "colab": {
          "base_uri": "https://localhost:8080/",
          "height": 206
        },
        "id": "cd5b317b",
        "outputId": "505be9dc-0867-4a99-ef00-f92e692209e2"
      },
      "source": [
        "df[['Principal','terms','age','Gender','education']].head()"
      ],
      "id": "cd5b317b",
      "execution_count": 14,
      "outputs": [
        {
          "output_type": "execute_result",
          "data": {
            "text/html": [
              "<div>\n",
              "<style scoped>\n",
              "    .dataframe tbody tr th:only-of-type {\n",
              "        vertical-align: middle;\n",
              "    }\n",
              "\n",
              "    .dataframe tbody tr th {\n",
              "        vertical-align: top;\n",
              "    }\n",
              "\n",
              "    .dataframe thead th {\n",
              "        text-align: right;\n",
              "    }\n",
              "</style>\n",
              "<table border=\"1\" class=\"dataframe\">\n",
              "  <thead>\n",
              "    <tr style=\"text-align: right;\">\n",
              "      <th></th>\n",
              "      <th>Principal</th>\n",
              "      <th>terms</th>\n",
              "      <th>age</th>\n",
              "      <th>Gender</th>\n",
              "      <th>education</th>\n",
              "    </tr>\n",
              "  </thead>\n",
              "  <tbody>\n",
              "    <tr>\n",
              "      <th>0</th>\n",
              "      <td>1000</td>\n",
              "      <td>30</td>\n",
              "      <td>45</td>\n",
              "      <td>0</td>\n",
              "      <td>High School or Below</td>\n",
              "    </tr>\n",
              "    <tr>\n",
              "      <th>1</th>\n",
              "      <td>1000</td>\n",
              "      <td>30</td>\n",
              "      <td>33</td>\n",
              "      <td>1</td>\n",
              "      <td>Bechalor</td>\n",
              "    </tr>\n",
              "    <tr>\n",
              "      <th>2</th>\n",
              "      <td>1000</td>\n",
              "      <td>15</td>\n",
              "      <td>27</td>\n",
              "      <td>0</td>\n",
              "      <td>college</td>\n",
              "    </tr>\n",
              "    <tr>\n",
              "      <th>3</th>\n",
              "      <td>1000</td>\n",
              "      <td>30</td>\n",
              "      <td>28</td>\n",
              "      <td>1</td>\n",
              "      <td>college</td>\n",
              "    </tr>\n",
              "    <tr>\n",
              "      <th>4</th>\n",
              "      <td>1000</td>\n",
              "      <td>30</td>\n",
              "      <td>29</td>\n",
              "      <td>0</td>\n",
              "      <td>college</td>\n",
              "    </tr>\n",
              "  </tbody>\n",
              "</table>\n",
              "</div>"
            ],
            "text/plain": [
              "   Principal  terms  age  Gender             education\n",
              "0       1000     30   45       0  High School or Below\n",
              "1       1000     30   33       1              Bechalor\n",
              "2       1000     15   27       0               college\n",
              "3       1000     30   28       1               college\n",
              "4       1000     30   29       0               college"
            ]
          },
          "metadata": {},
          "execution_count": 14
        }
      ]
    },
    {
      "cell_type": "code",
      "metadata": {
        "colab": {
          "base_uri": "https://localhost:8080/",
          "height": 206
        },
        "id": "d75f20d9",
        "outputId": "6dbc9bf6-4a75-43c4-9b99-70ff6a8e7947"
      },
      "source": [
        "Feature = df[['Principal','terms','age','Gender','weekend']]\n",
        "Feature = pd.concat([Feature,pd.get_dummies(df['education'])], axis=1)\n",
        "Feature.drop(['Master or Above'], axis = 1,inplace=True)\n",
        "Feature.head()"
      ],
      "id": "d75f20d9",
      "execution_count": 15,
      "outputs": [
        {
          "output_type": "execute_result",
          "data": {
            "text/html": [
              "<div>\n",
              "<style scoped>\n",
              "    .dataframe tbody tr th:only-of-type {\n",
              "        vertical-align: middle;\n",
              "    }\n",
              "\n",
              "    .dataframe tbody tr th {\n",
              "        vertical-align: top;\n",
              "    }\n",
              "\n",
              "    .dataframe thead th {\n",
              "        text-align: right;\n",
              "    }\n",
              "</style>\n",
              "<table border=\"1\" class=\"dataframe\">\n",
              "  <thead>\n",
              "    <tr style=\"text-align: right;\">\n",
              "      <th></th>\n",
              "      <th>Principal</th>\n",
              "      <th>terms</th>\n",
              "      <th>age</th>\n",
              "      <th>Gender</th>\n",
              "      <th>weekend</th>\n",
              "      <th>Bechalor</th>\n",
              "      <th>High School or Below</th>\n",
              "      <th>college</th>\n",
              "    </tr>\n",
              "  </thead>\n",
              "  <tbody>\n",
              "    <tr>\n",
              "      <th>0</th>\n",
              "      <td>1000</td>\n",
              "      <td>30</td>\n",
              "      <td>45</td>\n",
              "      <td>0</td>\n",
              "      <td>0</td>\n",
              "      <td>0</td>\n",
              "      <td>1</td>\n",
              "      <td>0</td>\n",
              "    </tr>\n",
              "    <tr>\n",
              "      <th>1</th>\n",
              "      <td>1000</td>\n",
              "      <td>30</td>\n",
              "      <td>33</td>\n",
              "      <td>1</td>\n",
              "      <td>0</td>\n",
              "      <td>1</td>\n",
              "      <td>0</td>\n",
              "      <td>0</td>\n",
              "    </tr>\n",
              "    <tr>\n",
              "      <th>2</th>\n",
              "      <td>1000</td>\n",
              "      <td>15</td>\n",
              "      <td>27</td>\n",
              "      <td>0</td>\n",
              "      <td>0</td>\n",
              "      <td>0</td>\n",
              "      <td>0</td>\n",
              "      <td>1</td>\n",
              "    </tr>\n",
              "    <tr>\n",
              "      <th>3</th>\n",
              "      <td>1000</td>\n",
              "      <td>30</td>\n",
              "      <td>28</td>\n",
              "      <td>1</td>\n",
              "      <td>1</td>\n",
              "      <td>0</td>\n",
              "      <td>0</td>\n",
              "      <td>1</td>\n",
              "    </tr>\n",
              "    <tr>\n",
              "      <th>4</th>\n",
              "      <td>1000</td>\n",
              "      <td>30</td>\n",
              "      <td>29</td>\n",
              "      <td>0</td>\n",
              "      <td>1</td>\n",
              "      <td>0</td>\n",
              "      <td>0</td>\n",
              "      <td>1</td>\n",
              "    </tr>\n",
              "  </tbody>\n",
              "</table>\n",
              "</div>"
            ],
            "text/plain": [
              "   Principal  terms  age  ...  Bechalor  High School or Below  college\n",
              "0       1000     30   45  ...         0                     1        0\n",
              "1       1000     30   33  ...         1                     0        0\n",
              "2       1000     15   27  ...         0                     0        1\n",
              "3       1000     30   28  ...         0                     0        1\n",
              "4       1000     30   29  ...         0                     0        1\n",
              "\n",
              "[5 rows x 8 columns]"
            ]
          },
          "metadata": {},
          "execution_count": 15
        }
      ]
    },
    {
      "cell_type": "code",
      "metadata": {
        "colab": {
          "base_uri": "https://localhost:8080/",
          "height": 206
        },
        "id": "f18c5fc0",
        "outputId": "64e4f544-d6fd-4ccd-d882-30d17cb2c286"
      },
      "source": [
        "X = Feature\n",
        "X[0:5]"
      ],
      "id": "f18c5fc0",
      "execution_count": 16,
      "outputs": [
        {
          "output_type": "execute_result",
          "data": {
            "text/html": [
              "<div>\n",
              "<style scoped>\n",
              "    .dataframe tbody tr th:only-of-type {\n",
              "        vertical-align: middle;\n",
              "    }\n",
              "\n",
              "    .dataframe tbody tr th {\n",
              "        vertical-align: top;\n",
              "    }\n",
              "\n",
              "    .dataframe thead th {\n",
              "        text-align: right;\n",
              "    }\n",
              "</style>\n",
              "<table border=\"1\" class=\"dataframe\">\n",
              "  <thead>\n",
              "    <tr style=\"text-align: right;\">\n",
              "      <th></th>\n",
              "      <th>Principal</th>\n",
              "      <th>terms</th>\n",
              "      <th>age</th>\n",
              "      <th>Gender</th>\n",
              "      <th>weekend</th>\n",
              "      <th>Bechalor</th>\n",
              "      <th>High School or Below</th>\n",
              "      <th>college</th>\n",
              "    </tr>\n",
              "  </thead>\n",
              "  <tbody>\n",
              "    <tr>\n",
              "      <th>0</th>\n",
              "      <td>1000</td>\n",
              "      <td>30</td>\n",
              "      <td>45</td>\n",
              "      <td>0</td>\n",
              "      <td>0</td>\n",
              "      <td>0</td>\n",
              "      <td>1</td>\n",
              "      <td>0</td>\n",
              "    </tr>\n",
              "    <tr>\n",
              "      <th>1</th>\n",
              "      <td>1000</td>\n",
              "      <td>30</td>\n",
              "      <td>33</td>\n",
              "      <td>1</td>\n",
              "      <td>0</td>\n",
              "      <td>1</td>\n",
              "      <td>0</td>\n",
              "      <td>0</td>\n",
              "    </tr>\n",
              "    <tr>\n",
              "      <th>2</th>\n",
              "      <td>1000</td>\n",
              "      <td>15</td>\n",
              "      <td>27</td>\n",
              "      <td>0</td>\n",
              "      <td>0</td>\n",
              "      <td>0</td>\n",
              "      <td>0</td>\n",
              "      <td>1</td>\n",
              "    </tr>\n",
              "    <tr>\n",
              "      <th>3</th>\n",
              "      <td>1000</td>\n",
              "      <td>30</td>\n",
              "      <td>28</td>\n",
              "      <td>1</td>\n",
              "      <td>1</td>\n",
              "      <td>0</td>\n",
              "      <td>0</td>\n",
              "      <td>1</td>\n",
              "    </tr>\n",
              "    <tr>\n",
              "      <th>4</th>\n",
              "      <td>1000</td>\n",
              "      <td>30</td>\n",
              "      <td>29</td>\n",
              "      <td>0</td>\n",
              "      <td>1</td>\n",
              "      <td>0</td>\n",
              "      <td>0</td>\n",
              "      <td>1</td>\n",
              "    </tr>\n",
              "  </tbody>\n",
              "</table>\n",
              "</div>"
            ],
            "text/plain": [
              "   Principal  terms  age  ...  Bechalor  High School or Below  college\n",
              "0       1000     30   45  ...         0                     1        0\n",
              "1       1000     30   33  ...         1                     0        0\n",
              "2       1000     15   27  ...         0                     0        1\n",
              "3       1000     30   28  ...         0                     0        1\n",
              "4       1000     30   29  ...         0                     0        1\n",
              "\n",
              "[5 rows x 8 columns]"
            ]
          },
          "metadata": {},
          "execution_count": 16
        }
      ]
    },
    {
      "cell_type": "code",
      "metadata": {
        "colab": {
          "base_uri": "https://localhost:8080/"
        },
        "id": "35797115",
        "outputId": "ea64133e-5a5e-46c2-af61-3c94a4fef2e5"
      },
      "source": [
        "y = df['loan_status'].values\n",
        "y[0:5]"
      ],
      "id": "35797115",
      "execution_count": 17,
      "outputs": [
        {
          "output_type": "execute_result",
          "data": {
            "text/plain": [
              "array(['PAIDOFF', 'PAIDOFF', 'PAIDOFF', 'PAIDOFF', 'PAIDOFF'],\n",
              "      dtype=object)"
            ]
          },
          "metadata": {},
          "execution_count": 17
        }
      ]
    },
    {
      "cell_type": "code",
      "metadata": {
        "colab": {
          "base_uri": "https://localhost:8080/"
        },
        "id": "8791e8b6",
        "outputId": "61147aca-05f5-4e21-d0c3-67cdceb4dd8f"
      },
      "source": [
        "X= preprocessing.StandardScaler().fit(X).transform(X)\n",
        "X[0:5]"
      ],
      "id": "8791e8b6",
      "execution_count": 18,
      "outputs": [
        {
          "output_type": "execute_result",
          "data": {
            "text/plain": [
              "array([[ 0.51578458,  0.92071769,  2.33152555, -0.42056004, -1.20577805,\n",
              "        -0.38170062,  1.13639374, -0.86968108],\n",
              "       [ 0.51578458,  0.92071769,  0.34170148,  2.37778177, -1.20577805,\n",
              "         2.61985426, -0.87997669, -0.86968108],\n",
              "       [ 0.51578458, -0.95911111, -0.65321055, -0.42056004, -1.20577805,\n",
              "        -0.38170062, -0.87997669,  1.14984679],\n",
              "       [ 0.51578458,  0.92071769, -0.48739188,  2.37778177,  0.82934003,\n",
              "        -0.38170062, -0.87997669,  1.14984679],\n",
              "       [ 0.51578458,  0.92071769, -0.3215732 , -0.42056004,  0.82934003,\n",
              "        -0.38170062, -0.87997669,  1.14984679]])"
            ]
          },
          "metadata": {},
          "execution_count": 18
        }
      ]
    },
    {
      "cell_type": "markdown",
      "metadata": {
        "id": "21eb5fd3"
      },
      "source": [
        "Classification\n",
        "Algorithm:\n",
        "\n",
        "K Nearest Neighbor(KNN),\n",
        "Decision Tree,\n",
        "Support Vector Machine,\n",
        "Logistic Regression.\n"
      ],
      "id": "21eb5fd3"
    },
    {
      "cell_type": "markdown",
      "metadata": {
        "id": "7fd2b873"
      },
      "source": [
        "(KNN) K NEAREST NEIGHBOR"
      ],
      "id": "7fd2b873"
    },
    {
      "cell_type": "code",
      "metadata": {
        "colab": {
          "base_uri": "https://localhost:8080/"
        },
        "id": "d2589199",
        "outputId": "8ddc2b68-1c47-49e7-f19a-f56033d804bd"
      },
      "source": [
        "from sklearn.model_selection import train_test_split\n",
        "X_train, X_test, y_train, y_test = train_test_split( X, y, test_size = 0.2, random_state = 4 )\n",
        "print ('Train set:', X_train.shape,  y_train.shape)\n",
        "print ('Test set:', X_test.shape,  y_test.shape)"
      ],
      "id": "d2589199",
      "execution_count": 19,
      "outputs": [
        {
          "output_type": "stream",
          "name": "stdout",
          "text": [
            "Train set: (276, 8) (276,)\n",
            "Test set: (70, 8) (70,)\n"
          ]
        }
      ]
    },
    {
      "cell_type": "code",
      "metadata": {
        "colab": {
          "base_uri": "https://localhost:8080/",
          "height": 349
        },
        "id": "a350b469",
        "outputId": "fa092464-2974-4c4a-f12c-a2f742230ef9"
      },
      "source": [
        "from sklearn.neighbors import KNeighborsClassifier\n",
        "from sklearn import metrics\n",
        "\n",
        "#for 10 values of k\n",
        "Ks = 10\n",
        "mean_acc = np.zeros((Ks-1))\n",
        "std_acc = np.zeros((Ks-1))\n",
        "ConfustionMx = [];\n",
        "for n in range(1,Ks):\n",
        "    clf1 = KNeighborsClassifier(n_neighbors = n).fit(X_train,y_train)\n",
        "    yhat = clf1.predict(X_test)\n",
        "    mean_acc[n-1] = metrics.accuracy_score(y_test, yhat)\n",
        "    std_acc[n-1] = np.std(yhat == y_test)/np.sqrt(yhat.shape[0])\n",
        "    \n",
        "# Plot model accuracy for Different number of Neighbors\n",
        "plt.plot(range(1,Ks),mean_acc,'g')\n",
        "plt.fill_between(range(1,Ks),mean_acc - 1 * std_acc,mean_acc + 1 * std_acc, alpha=0.10)\n",
        "plt.legend(('Accuracy ', '+/- 3xstd'))\n",
        "plt.ylabel('Accuracy ')\n",
        "plt.xlabel('Number of Nabors (K)')\n",
        "plt.tight_layout()\n",
        "plt.show()\n",
        "\n",
        "print(mean_acc)\n",
        "print( \"Best accuracy\", mean_acc.max(), \"with k=\", mean_acc.argmax()+1 )"
      ],
      "id": "a350b469",
      "execution_count": 20,
      "outputs": [
        {
          "output_type": "display_data",
          "data": {
            "image/png": "[encoded data removed]",
            "text/plain": [
              "<Figure size 432x288 with 1 Axes>"
            ]
          },
          "metadata": {
            "needs_background": "light"
          }
        },
        {
          "output_type": "stream",
          "name": "stdout",
          "text": [
            "[0.67142857 0.65714286 0.71428571 0.68571429 0.75714286 0.71428571\n",
            " 0.78571429 0.75714286 0.75714286]\n",
            "Best accuracy 0.7857142857142857 with k= 7\n"
          ]
        }
      ]
    },
    {
      "cell_type": "code",
      "metadata": {
        "colab": {
          "base_uri": "https://localhost:8080/"
        },
        "id": "22d6f764",
        "outputId": "ef9ba36f-c5cc-4e03-f35e-e83ce21ac8e1"
      },
      "source": [
        "clf1 = KNeighborsClassifier(n_neighbors = 7).fit(X_train,y_train)\n",
        "clf1"
      ],
      "id": "22d6f764",
      "execution_count": 21,
      "outputs": [
        {
          "output_type": "execute_result",
          "data": {
            "text/plain": [
              "KNeighborsClassifier(algorithm='auto', leaf_size=30, metric='minkowski',\n",
              "                     metric_params=None, n_jobs=None, n_neighbors=7, p=2,\n",
              "                     weights='uniform')"
            ]
          },
          "metadata": {},
          "execution_count": 21
        }
      ]
    },
    {
      "cell_type": "markdown",
      "metadata": {
        "id": "21806349"
      },
      "source": [
        "Decision Tree"
      ],
      "id": "21806349"
    },
    {
      "cell_type": "code",
      "metadata": {
        "scrolled": true,
        "colab": {
          "base_uri": "https://localhost:8080/"
        },
        "id": "ef188917",
        "outputId": "804e5d3d-f692-4019-ec90-02e47dcb2e33"
      },
      "source": [
        "\n",
        "from sklearn.tree import DecisionTreeClassifier\n",
        "CLFTree = DecisionTreeClassifier(criterion=\"entropy\", max_depth = 4)\n",
        "CLFTree.fit(X_train,y_train)\n",
        "CLFTree"
      ],
      "id": "ef188917",
      "execution_count": 22,
      "outputs": [
        {
          "output_type": "execute_result",
          "data": {
            "text/plain": [
              "DecisionTreeClassifier(ccp_alpha=0.0, class_weight=None, criterion='entropy',\n",
              "                       max_depth=4, max_features=None, max_leaf_nodes=None,\n",
              "                       min_impurity_decrease=0.0, min_impurity_split=None,\n",
              "                       min_samples_leaf=1, min_samples_split=2,\n",
              "                       min_weight_fraction_leaf=0.0, presort='deprecated',\n",
              "                       random_state=None, splitter='best')"
            ]
          },
          "metadata": {},
          "execution_count": 22
        }
      ]
    },
    {
      "cell_type": "markdown",
      "metadata": {
        "id": "aa766909"
      },
      "source": [
        "(SVM) SUPPORT VECTOR MACHINE"
      ],
      "id": "aa766909"
    },
    {
      "cell_type": "code",
      "metadata": {
        "colab": {
          "base_uri": "https://localhost:8080/"
        },
        "id": "fc018141",
        "outputId": "62fdd51a-8608-4327-e638-5ec872a61c64"
      },
      "source": [
        "from sklearn import svm\n",
        "clfSVM = svm.SVC()\n",
        "clfSVM.fit(X_train, y_train)"
      ],
      "id": "fc018141",
      "execution_count": 23,
      "outputs": [
        {
          "output_type": "execute_result",
          "data": {
            "text/plain": [
              "SVC(C=1.0, break_ties=False, cache_size=200, class_weight=None, coef0=0.0,\n",
              "    decision_function_shape='ovr', degree=3, gamma='scale', kernel='rbf',\n",
              "    max_iter=-1, probability=False, random_state=None, shrinking=True,\n",
              "    tol=0.001, verbose=False)"
            ]
          },
          "metadata": {},
          "execution_count": 23
        }
      ]
    },
    {
      "cell_type": "markdown",
      "metadata": {
        "id": "Ac_xFrzEOvcc"
      },
      "source": [
        "Logistic Regression"
      ],
      "id": "Ac_xFrzEOvcc"
    },
    {
      "cell_type": "code",
      "metadata": {
        "colab": {
          "base_uri": "https://localhost:8080/"
        },
        "id": "3ec75a79",
        "outputId": "9eab8ae5-c5da-4500-cb8b-3a19e050c285"
      },
      "source": [
        "from sklearn.linear_model import LogisticRegression\n",
        "LRclf = LogisticRegression(C = 0.01).fit(X_train,y_train)\n",
        "LRclf"
      ],
      "id": "3ec75a79",
      "execution_count": 26,
      "outputs": [
        {
          "output_type": "execute_result",
          "data": {
            "text/plain": [
              "LogisticRegression(C=0.01, class_weight=None, dual=False, fit_intercept=True,\n",
              "                   intercept_scaling=1, l1_ratio=None, max_iter=100,\n",
              "                   multi_class='auto', n_jobs=None, penalty='l2',\n",
              "                   random_state=None, solver='lbfgs', tol=0.0001, verbose=0,\n",
              "                   warm_start=False)"
            ]
          },
          "metadata": {},
          "execution_count": 26
        }
      ]
    },
    {
      "cell_type": "markdown",
      "metadata": {
        "id": "XeRUTdriPCrV"
      },
      "source": [
        "Model Evaluation"
      ],
      "id": "XeRUTdriPCrV"
    },
    {
      "cell_type": "code",
      "metadata": {
        "id": "4RZag8b4PIXr"
      },
      "source": [
        "from sklearn.metrics import jaccard_similarity_score\n",
        "from sklearn.metrics import f1_score\n",
        "from sklearn.metrics import log_loss"
      ],
      "id": "4RZag8b4PIXr",
      "execution_count": 27,
      "outputs": []
    },
    {
      "cell_type": "code",
      "metadata": {
        "colab": {
          "base_uri": "https://localhost:8080/"
        },
        "id": "9a387107",
        "outputId": "2b1a0b43-a741-46a4-9ec5-de712dd4b91a"
      },
      "source": [
        "!curl -O https://s3-api.us-geo.objectstorage.softlayer.net/cf-courses-data/CognitiveClass/ML0101ENv3/labs/loan_test.csv"
      ],
      "id": "9a387107",
      "execution_count": 28,
      "outputs": [
        {
          "output_type": "stream",
          "name": "stdout",
          "text": [
            "  % Total    % Received % Xferd  Average Speed   Time    Time     Time  Current\n",
            "                                 Dload  Upload   Total   Spent    Left  Speed\n",
            "\r  0     0    0     0    0     0      0      0 --:--:-- --:--:-- --:--:--     0\r100  3642  100  3642    0     0  14509      0 --:--:-- --:--:-- --:--:-- 14509\n"
          ]
        }
      ]
    },
    {
      "cell_type": "code",
      "metadata": {
        "colab": {
          "base_uri": "https://localhost:8080/",
          "height": 206
        },
        "id": "e9c43c92",
        "outputId": "328ec0c0-e8f5-4b53-cd9c-1e9f998da468"
      },
      "source": [
        "test_df = pd.read_csv('loan_test.csv')\n",
        "test_df.head()"
      ],
      "id": "e9c43c92",
      "execution_count": 29,
      "outputs": [
        {
          "output_type": "execute_result",
          "data": {
            "text/html": [
              "<div>\n",
              "<style scoped>\n",
              "    .dataframe tbody tr th:only-of-type {\n",
              "        vertical-align: middle;\n",
              "    }\n",
              "\n",
              "    .dataframe tbody tr th {\n",
              "        vertical-align: top;\n",
              "    }\n",
              "\n",
              "    .dataframe thead th {\n",
              "        text-align: right;\n",
              "    }\n",
              "</style>\n",
              "<table border=\"1\" class=\"dataframe\">\n",
              "  <thead>\n",
              "    <tr style=\"text-align: right;\">\n",
              "      <th></th>\n",
              "      <th>Unnamed: 0</th>\n",
              "      <th>Unnamed: 0.1</th>\n",
              "      <th>loan_status</th>\n",
              "      <th>Principal</th>\n",
              "      <th>terms</th>\n",
              "      <th>effective_date</th>\n",
              "      <th>due_date</th>\n",
              "      <th>age</th>\n",
              "      <th>education</th>\n",
              "      <th>Gender</th>\n",
              "    </tr>\n",
              "  </thead>\n",
              "  <tbody>\n",
              "    <tr>\n",
              "      <th>0</th>\n",
              "      <td>1</td>\n",
              "      <td>1</td>\n",
              "      <td>PAIDOFF</td>\n",
              "      <td>1000</td>\n",
              "      <td>30</td>\n",
              "      <td>9/8/2016</td>\n",
              "      <td>10/7/2016</td>\n",
              "      <td>50</td>\n",
              "      <td>Bechalor</td>\n",
              "      <td>female</td>\n",
              "    </tr>\n",
              "    <tr>\n",
              "      <th>1</th>\n",
              "      <td>5</td>\n",
              "      <td>5</td>\n",
              "      <td>PAIDOFF</td>\n",
              "      <td>300</td>\n",
              "      <td>7</td>\n",
              "      <td>9/9/2016</td>\n",
              "      <td>9/15/2016</td>\n",
              "      <td>35</td>\n",
              "      <td>Master or Above</td>\n",
              "      <td>male</td>\n",
              "    </tr>\n",
              "    <tr>\n",
              "      <th>2</th>\n",
              "      <td>21</td>\n",
              "      <td>21</td>\n",
              "      <td>PAIDOFF</td>\n",
              "      <td>1000</td>\n",
              "      <td>30</td>\n",
              "      <td>9/10/2016</td>\n",
              "      <td>10/9/2016</td>\n",
              "      <td>43</td>\n",
              "      <td>High School or Below</td>\n",
              "      <td>female</td>\n",
              "    </tr>\n",
              "    <tr>\n",
              "      <th>3</th>\n",
              "      <td>24</td>\n",
              "      <td>24</td>\n",
              "      <td>PAIDOFF</td>\n",
              "      <td>1000</td>\n",
              "      <td>30</td>\n",
              "      <td>9/10/2016</td>\n",
              "      <td>10/9/2016</td>\n",
              "      <td>26</td>\n",
              "      <td>college</td>\n",
              "      <td>male</td>\n",
              "    </tr>\n",
              "    <tr>\n",
              "      <th>4</th>\n",
              "      <td>35</td>\n",
              "      <td>35</td>\n",
              "      <td>PAIDOFF</td>\n",
              "      <td>800</td>\n",
              "      <td>15</td>\n",
              "      <td>9/11/2016</td>\n",
              "      <td>9/25/2016</td>\n",
              "      <td>29</td>\n",
              "      <td>Bechalor</td>\n",
              "      <td>male</td>\n",
              "    </tr>\n",
              "  </tbody>\n",
              "</table>\n",
              "</div>"
            ],
            "text/plain": [
              "   Unnamed: 0  Unnamed: 0.1 loan_status  ...  age             education  Gender\n",
              "0           1             1     PAIDOFF  ...   50              Bechalor  female\n",
              "1           5             5     PAIDOFF  ...   35       Master or Above    male\n",
              "2          21            21     PAIDOFF  ...   43  High School or Below  female\n",
              "3          24            24     PAIDOFF  ...   26               college    male\n",
              "4          35            35     PAIDOFF  ...   29              Bechalor    male\n",
              "\n",
              "[5 rows x 10 columns]"
            ]
          },
          "metadata": {},
          "execution_count": 29
        }
      ]
    },
    {
      "cell_type": "markdown",
      "metadata": {
        "id": "G6zl7zvWPS-t"
      },
      "source": [
        "Load Test For Evaluation"
      ],
      "id": "G6zl7zvWPS-t"
    },
    {
      "cell_type": "code",
      "metadata": {
        "colab": {
          "base_uri": "https://localhost:8080/",
          "height": 206
        },
        "id": "8f3eeb1d",
        "outputId": "832a160a-069b-4ed5-f09b-6f1cb2207ced"
      },
      "source": [
        "test_df = pd.read_csv('loan_test.csv')\n",
        "test_df.head()"
      ],
      "id": "8f3eeb1d",
      "execution_count": 30,
      "outputs": [
        {
          "output_type": "execute_result",
          "data": {
            "text/html": [
              "<div>\n",
              "<style scoped>\n",
              "    .dataframe tbody tr th:only-of-type {\n",
              "        vertical-align: middle;\n",
              "    }\n",
              "\n",
              "    .dataframe tbody tr th {\n",
              "        vertical-align: top;\n",
              "    }\n",
              "\n",
              "    .dataframe thead th {\n",
              "        text-align: right;\n",
              "    }\n",
              "</style>\n",
              "<table border=\"1\" class=\"dataframe\">\n",
              "  <thead>\n",
              "    <tr style=\"text-align: right;\">\n",
              "      <th></th>\n",
              "      <th>Unnamed: 0</th>\n",
              "      <th>Unnamed: 0.1</th>\n",
              "      <th>loan_status</th>\n",
              "      <th>Principal</th>\n",
              "      <th>terms</th>\n",
              "      <th>effective_date</th>\n",
              "      <th>due_date</th>\n",
              "      <th>age</th>\n",
              "      <th>education</th>\n",
              "      <th>Gender</th>\n",
              "    </tr>\n",
              "  </thead>\n",
              "  <tbody>\n",
              "    <tr>\n",
              "      <th>0</th>\n",
              "      <td>1</td>\n",
              "      <td>1</td>\n",
              "      <td>PAIDOFF</td>\n",
              "      <td>1000</td>\n",
              "      <td>30</td>\n",
              "      <td>9/8/2016</td>\n",
              "      <td>10/7/2016</td>\n",
              "      <td>50</td>\n",
              "      <td>Bechalor</td>\n",
              "      <td>female</td>\n",
              "    </tr>\n",
              "    <tr>\n",
              "      <th>1</th>\n",
              "      <td>5</td>\n",
              "      <td>5</td>\n",
              "      <td>PAIDOFF</td>\n",
              "      <td>300</td>\n",
              "      <td>7</td>\n",
              "      <td>9/9/2016</td>\n",
              "      <td>9/15/2016</td>\n",
              "      <td>35</td>\n",
              "      <td>Master or Above</td>\n",
              "      <td>male</td>\n",
              "    </tr>\n",
              "    <tr>\n",
              "      <th>2</th>\n",
              "      <td>21</td>\n",
              "      <td>21</td>\n",
              "      <td>PAIDOFF</td>\n",
              "      <td>1000</td>\n",
              "      <td>30</td>\n",
              "      <td>9/10/2016</td>\n",
              "      <td>10/9/2016</td>\n",
              "      <td>43</td>\n",
              "      <td>High School or Below</td>\n",
              "      <td>female</td>\n",
              "    </tr>\n",
              "    <tr>\n",
              "      <th>3</th>\n",
              "      <td>24</td>\n",
              "      <td>24</td>\n",
              "      <td>PAIDOFF</td>\n",
              "      <td>1000</td>\n",
              "      <td>30</td>\n",
              "      <td>9/10/2016</td>\n",
              "      <td>10/9/2016</td>\n",
              "      <td>26</td>\n",
              "      <td>college</td>\n",
              "      <td>male</td>\n",
              "    </tr>\n",
              "    <tr>\n",
              "      <th>4</th>\n",
              "      <td>35</td>\n",
              "      <td>35</td>\n",
              "      <td>PAIDOFF</td>\n",
              "      <td>800</td>\n",
              "      <td>15</td>\n",
              "      <td>9/11/2016</td>\n",
              "      <td>9/25/2016</td>\n",
              "      <td>29</td>\n",
              "      <td>Bechalor</td>\n",
              "      <td>male</td>\n",
              "    </tr>\n",
              "  </tbody>\n",
              "</table>\n",
              "</div>"
            ],
            "text/plain": [
              "   Unnamed: 0  Unnamed: 0.1 loan_status  ...  age             education  Gender\n",
              "0           1             1     PAIDOFF  ...   50              Bechalor  female\n",
              "1           5             5     PAIDOFF  ...   35       Master or Above    male\n",
              "2          21            21     PAIDOFF  ...   43  High School or Below  female\n",
              "3          24            24     PAIDOFF  ...   26               college    male\n",
              "4          35            35     PAIDOFF  ...   29              Bechalor    male\n",
              "\n",
              "[5 rows x 10 columns]"
            ]
          },
          "metadata": {},
          "execution_count": 30
        }
      ]
    },
    {
      "cell_type": "code",
      "metadata": {
        "colab": {
          "base_uri": "https://localhost:8080/"
        },
        "id": "96a73efd",
        "outputId": "95fc6c38-76b7-4e4b-89ef-4da8efd93a1e"
      },
      "source": [
        "test_df['due_date'] = pd.to_datetime(test_df['due_date'])\n",
        "test_df['effective_date'] = pd.to_datetime(test_df['effective_date'])\n",
        "test_df['dayofweek'] = df['effective_date'].dt.dayofweek\n",
        "test_df['weekend'] = test_df['dayofweek'].apply(lambda x: 1 if (x>3)  else 0)\n",
        "test_df['Gender'].replace(to_replace=['male','female'], value=[0,1],inplace=True)\n",
        "Feature_test = test_df[['Principal','terms','age','Gender','weekend']]\n",
        "Feature_test = pd.concat([Feature_test,pd.get_dummies(test_df['education'])], axis=1)\n",
        "Feature_test.drop(['Master or Above'], axis = 1,inplace=True)\n",
        "test_X = Feature_test\n",
        "test_X = preprocessing.StandardScaler().fit(test_X).transform(test_X)\n",
        "test_X[0:5]"
      ],
      "id": "96a73efd",
      "execution_count": 31,
      "outputs": [
        {
          "output_type": "execute_result",
          "data": {
            "text/plain": [
              "array([[ 0.49362588,  0.92844966,  3.05981865,  1.97714211, -4.12310563,\n",
              "         2.39791576, -0.79772404, -0.86135677],\n",
              "       [-3.56269116, -1.70427745,  0.53336288, -0.50578054, -4.12310563,\n",
              "        -0.41702883, -0.79772404, -0.86135677],\n",
              "       [ 0.49362588,  0.92844966,  1.88080596,  1.97714211, -4.12310563,\n",
              "        -0.41702883,  1.25356634, -0.86135677],\n",
              "       [ 0.49362588,  0.92844966, -0.98251057, -0.50578054,  0.24253563,\n",
              "        -0.41702883, -0.79772404,  1.16095912],\n",
              "       [-0.66532184, -0.78854628, -0.47721942, -0.50578054,  0.24253563,\n",
              "         2.39791576, -0.79772404, -0.86135677]])"
            ]
          },
          "metadata": {},
          "execution_count": 31
        }
      ]
    },
    {
      "cell_type": "code",
      "metadata": {
        "colab": {
          "base_uri": "https://localhost:8080/"
        },
        "id": "ab3a7fe1",
        "outputId": "d828d3d1-9c95-414a-8fc0-013b3d058756"
      },
      "source": [
        "test_y = test_df['loan_status'].values\n",
        "test_y[0:5]"
      ],
      "id": "ab3a7fe1",
      "execution_count": 32,
      "outputs": [
        {
          "output_type": "execute_result",
          "data": {
            "text/plain": [
              "array(['PAIDOFF', 'PAIDOFF', 'PAIDOFF', 'PAIDOFF', 'PAIDOFF'],\n",
              "      dtype=object)"
            ]
          },
          "metadata": {},
          "execution_count": 32
        }
      ]
    },
    {
      "cell_type": "code",
      "metadata": {
        "colab": {
          "base_uri": "https://localhost:8080/"
        },
        "id": "7f3effeb",
        "outputId": "0af62497-1c05-41a0-d2b4-533a89a19148"
      },
      "source": [
        "#for KNN\n",
        "yhat_knn = clf1.predict(test_X)\n",
        "jaccard_knn = jaccard_similarity_score(test_y, yhat_knn)\n",
        "print(\"KNN Jaccard index: \", jaccard_knn)\n",
        "f1_score_knn = f1_score(test_y, yhat_knn, average='weighted')\n",
        "print(\"KNN F1-score: \", f1_score_knn)\n",
        "\n",
        "#for DT\n",
        "yhat_dt = CLFTree.predict(test_X)\n",
        "jaccard_dt = jaccard_similarity_score(test_y, yhat_dt)\n",
        "print(\"DT Jaccard index: \", jaccard_dt)\n",
        "f1_score_dt = f1_score(test_y, yhat_dt, average='weighted')\n",
        "print(\"DT F1-score: \", f1_score_dt)\n",
        "\n",
        "#for SVM\n",
        "yhat_svm = clfSVM.predict(test_X)\n",
        "jaccard_svm = jaccard_similarity_score(test_y, yhat_svm)\n",
        "print(\"SVM Jaccard index: \", jaccard_svm)\n",
        "f1_score_svm = f1_score(test_y, yhat_svm, average='weighted')\n",
        "print(\"SVM F1-score: \", f1_score_svm)\n",
        "\n",
        "#for LR\n",
        "yhat_lg = LRclf.predict(test_X)\n",
        "yhat_lg_prob = LRclf.predict_proba(test_X)\n",
        "jaccard_lg = jaccard_similarity_score(test_y, yhat_lg)\n",
        "print(\"LR Jaccard index: \", jaccard_lg)\n",
        "f1_score_lg = f1_score(test_y, yhat_lg, average='weighted')\n",
        "print(\"LR F1-score: \", f1_score_lg)\n",
        "logloss_lg = log_loss(test_y, yhat_lg_prob)\n",
        "print(\"LR log loss: \", logloss_lg)"
      ],
      "id": "7f3effeb",
      "execution_count": 33,
      "outputs": [
        {
          "output_type": "stream",
          "name": "stdout",
          "text": [
            "KNN Jaccard index:  0.6851851851851852\n",
            "KNN F1-score:  0.6453810131971051\n",
            "DT Jaccard index:  0.5185185185185185\n",
            "DT F1-score:  0.5385802469135802\n",
            "SVM Jaccard index:  0.8148148148148148\n",
            "SVM F1-score:  0.7861952861952862\n",
            "LR Jaccard index:  0.7407407407407407\n",
            "LR F1-score:  0.6304176516942475\n",
            "LR log loss:  0.5535534424528359\n"
          ]
        },
        {
          "output_type": "stream",
          "name": "stderr",
          "text": [
            "/usr/local/lib/python3.7/dist-packages/sklearn/metrics/_classification.py:664: FutureWarning: jaccard_similarity_score has been deprecated and replaced with jaccard_score. It will be removed in version 0.23. This implementation has surprising behavior for binary and multiclass classification tasks.\n",
            "  FutureWarning)\n",
            "/usr/local/lib/python3.7/dist-packages/sklearn/metrics/_classification.py:664: FutureWarning: jaccard_similarity_score has been deprecated and replaced with jaccard_score. It will be removed in version 0.23. This implementation has surprising behavior for binary and multiclass classification tasks.\n",
            "  FutureWarning)\n",
            "/usr/local/lib/python3.7/dist-packages/sklearn/metrics/_classification.py:664: FutureWarning: jaccard_similarity_score has been deprecated and replaced with jaccard_score. It will be removed in version 0.23. This implementation has surprising behavior for binary and multiclass classification tasks.\n",
            "  FutureWarning)\n",
            "/usr/local/lib/python3.7/dist-packages/sklearn/metrics/_classification.py:664: FutureWarning: jaccard_similarity_score has been deprecated and replaced with jaccard_score. It will be removed in version 0.23. This implementation has surprising behavior for binary and multiclass classification tasks.\n",
            "  FutureWarning)\n"
          ]
        }
      ]
    },
    {
      "cell_type": "code",
      "metadata": {
        "id": "mqS7U8iYPvWJ"
      },
      "source": [
        ""
      ],
      "id": "mqS7U8iYPvWJ",
      "execution_count": null,
      "outputs": []
    },
    {
      "cell_type": "markdown",
      "metadata": {
        "id": "z0cBBCeoPwMs"
      },
      "source": [
        "Report![report.png](data:image/png;base64,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)"
      ],
      "id": "z0cBBCeoPwMs"
    }
  ]
}